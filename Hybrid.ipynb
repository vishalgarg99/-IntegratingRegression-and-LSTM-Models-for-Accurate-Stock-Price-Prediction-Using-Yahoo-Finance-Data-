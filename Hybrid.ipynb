{
  "nbformat": 4,
  "nbformat_minor": 0,
  "metadata": {
    "colab": {
      "provenance": []
    },
    "kernelspec": {
      "name": "python3",
      "display_name": "Python 3"
    },
    "language_info": {
      "name": "python"
    }
  },
  "cells": [
    {
      "cell_type": "markdown",
      "source": [
        "#1. INITIALIZATION"
      ],
      "metadata": {
        "id": "EdXj3y45hl6h"
      }
    },
    {
      "cell_type": "code",
      "execution_count": 2,
      "metadata": {
        "id": "9NM2olwRhcQE"
      },
      "outputs": [],
      "source": [
        "import numpy as np\n",
        "import pandas as pd\n",
        "import matplotlib.pyplot as plt\n",
        "import yfinance as yf\n",
        "from sklearn.preprocessing import MinMaxScaler\n",
        "from sklearn.model_selection import train_test_split\n",
        "from sklearn.linear_model import LinearRegression\n",
        "from sklearn.metrics import mean_squared_error, mean_absolute_error, r2_score\n",
        "from tensorflow.keras.models import Model\n",
        "from tensorflow.keras.layers import Input, LSTM, Dense, Concatenate\n",
        "from tensorflow.keras.callbacks import EarlyStopping\n",
        "import math\n",
        "import datetime as dt\n",
        "import warnings\n",
        "\n",
        "# Suppress warnings\n",
        "warnings.filterwarnings('ignore')\n",
        "\n",
        "# Set random seeds for reproducibility\n",
        "np.random.seed(42)\n",
        "import tensorflow as tf\n",
        "tf.random.set_seed(42)"
      ]
    },
    {
      "cell_type": "markdown",
      "source": [
        "Importing essential libraries for data manipulation, visualization, machine learning models, and time series analysis. Setting seeds ensures reproducible results"
      ],
      "metadata": {
        "id": "bOk9Lyf3h6jA"
      }
    },
    {
      "cell_type": "code",
      "source": [],
      "metadata": {
        "id": "7ERwXKwoh9Ez"
      },
      "execution_count": null,
      "outputs": []
    }
  ]
}